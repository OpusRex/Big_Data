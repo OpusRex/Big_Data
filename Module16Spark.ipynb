{
  "nbformat": 4,
  "nbformat_minor": 0,
  "metadata": {
    "colab": {
      "name": "Module16Spark.ipynb",
      "provenance": [],
      "authorship_tag": "ABX9TyOU9m7k6oYT/Mv/Z5Jw5G7Y",
      "include_colab_link": true
    },
    "kernelspec": {
      "name": "python3",
      "display_name": "Python 3"
    }
  },
  "cells": [
    {
      "cell_type": "markdown",
      "metadata": {
        "id": "view-in-github",
        "colab_type": "text"
      },
      "source": [
        "<a href=\"https://colab.research.google.com/github/OpusRex/Big_Data/blob/master/Module16Spark.ipynb\" target=\"_parent\"><img src=\"https://colab.research.google.com/assets/colab-badge.svg\" alt=\"Open In Colab\"/></a>"
      ]
    },
    {
      "cell_type": "code",
      "metadata": {
        "id": "LtbTzDx6lyA0",
        "colab_type": "code",
        "colab": {}
      },
      "source": [
        "# Install Java, Spark, and Findspark\n",
        "!apt-get install openjdk-8-jdk-headless -qq > /dev/null\n",
        "!wget -q http://www-us.apache.org/dist/spark/spark-2.4.5/spark-2.4.5-bin-hadoop2.7.tgz\n",
        "!tar xf spark-2.4.5-bin-hadoop2.7.tgz\n",
        "!pip install -q findspark\n",
        "\n",
        "# Set Environment Variables\n",
        "import os\n",
        "os.environ[\"JAVA_HOME\"] = \"/usr/lib/jvm/java-8-openjdk-amd64\"\n",
        "os.environ[\"SPARK_HOME\"] = \"/content/spark-2.4.5-bin-hadoop2.7\"\n",
        "\n",
        "# Start a SparkSession\n",
        "import findspark\n",
        "findspark.init()"
      ],
      "execution_count": 0,
      "outputs": []
    },
    {
      "cell_type": "code",
      "metadata": {
        "id": "eexEYaaOmg-7",
        "colab_type": "code",
        "colab": {}
      },
      "source": [
        "# Start Spark session\n",
        "from pyspark.sql import SparkSession\n",
        "spark = SparkSession.builder.appName(\"DataFrameFunctions\").getOrCreate()"
      ],
      "execution_count": 0,
      "outputs": []
    },
    {
      "cell_type": "code",
      "metadata": {
        "id": "OMK2y5enmlse",
        "colab_type": "code",
        "colab": {
          "base_uri": "https://localhost:8080/",
          "height": 459
        },
        "outputId": "1836383f-a94c-4696-a940-0c15fd584ff1"
      },
      "source": [
        "# Read in data from S3 Buckets\n",
        "from pyspark import SparkFiles\n",
        "url =\"https://s3.amazonaws.com/dataviz-curriculum/day_1/wine.csv\"\n",
        "spark.sparkContext.addFile(url)\n",
        "df = spark.read.csv(SparkFiles.get(\"wine.csv\"), sep=\",\", header=True)\n",
        "\n",
        "# Show DataFrame\n",
        "df.show()"
      ],
      "execution_count": 3,
      "outputs": [
        {
          "output_type": "stream",
          "text": [
            "+-------+--------------------+--------------------+------+-----+------------------+--------------------+-----------------+------------------+--------------------+\n",
            "|country|         description|         designation|points|price|          province|            region_1|         region_2|           variety|              winery|\n",
            "+-------+--------------------+--------------------+------+-----+------------------+--------------------+-----------------+------------------+--------------------+\n",
            "|     US|This tremendous 1...|   Martha's Vineyard|    96|  235|        California|         Napa Valley|             Napa|Cabernet Sauvignon|               Heitz|\n",
            "|  Spain|Ripe aromas of fi...|Carodorum Selecci...|    96|  110|    Northern Spain|                Toro|             null|     Tinta de Toro|Bodega Carmen Rod...|\n",
            "|     US|Mac Watson honors...|Special Selected ...|    96|   90|        California|      Knights Valley|           Sonoma|   Sauvignon Blanc|            Macauley|\n",
            "|     US|This spent 20 mon...|             Reserve|    96|   65|            Oregon|   Willamette Valley|Willamette Valley|        Pinot Noir|               Ponzi|\n",
            "| France|This is the top w...|         La Br��lade|    95|   66|          Provence|              Bandol|             null|Provence red blend|Domaine de la B̩gude|\n",
            "|  Spain|Deep, dense and p...|           Numanthia|    95|   73|    Northern Spain|                Toro|             null|     Tinta de Toro|           Numanthia|\n",
            "|  Spain|Slightly gritty b...|          San Rom��n|    95|   65|    Northern Spain|                Toro|             null|     Tinta de Toro|            Maurodos|\n",
            "|  Spain|Lush cedary black...|Carodorum �_nico ...|    95|  110|    Northern Spain|                Toro|             null|     Tinta de Toro|Bodega Carmen Rod...|\n",
            "|     US|This re-named vin...|              Silice|    95|   65|            Oregon|  Chehalem Mountains|Willamette Valley|        Pinot Noir|           Bergstr̦m|\n",
            "|     US|The producer sour...|Gap's Crown Vineyard|    95|   60|        California|        Sonoma Coast|           Sonoma|        Pinot Noir|           Blue Farm|\n",
            "|  Italy|Elegance, complex...|  Ronco della Chiesa|    95|   80|Northeastern Italy|              Collio|             null|          Friulano|    Borgo del Tiglio|\n",
            "|     US|From 18-year-old ...|Estate Vineyard W...|    95|   48|            Oregon|        Ribbon Ridge|Willamette Valley|        Pinot Noir|Patricia Green Ce...|\n",
            "|     US|A standout even i...|      Weber Vineyard|    95|   48|            Oregon|        Dundee Hills|Willamette Valley|        Pinot Noir|Patricia Green Ce...|\n",
            "| France|This wine is in p...|Ch̢teau Montus Pr...|    95|   90|  Southwest France|             Madiran|             null|            Tannat|   Vignobles Brumont|\n",
            "|     US|With its sophisti...|      Grace Vineyard|    95|  185|            Oregon|        Dundee Hills|Willamette Valley|        Pinot Noir|      Domaine Serene|\n",
            "|     US|First made in 200...|              Sigrid|    95|   90|            Oregon|   Willamette Valley|Willamette Valley|        Chardonnay|           Bergstr̦m|\n",
            "|     US|This blockbuster,...|     Rainin Vineyard|    95|  325|        California|Diamond Mountain ...|             Napa|Cabernet Sauvignon|                Hall|\n",
            "|  Spain|Nicely oaked blac...|6 A̱os Reserva Pr...|    95|   80|    Northern Spain|    Ribera del Duero|             null|       Tempranillo|            Valduero|\n",
            "| France|Coming from a sev...|       Le Pigeonnier|    95|  290|  Southwest France|              Cahors|             null|            Malbec|  Ch̢teau Lagr̩zette|\n",
            "|     US|This fresh and li...|Gap's Crown Vineyard|    95|   75|        California|        Sonoma Coast|           Sonoma|        Pinot Noir|        Gary Farrell|\n",
            "+-------+--------------------+--------------------+------+-----+------------------+--------------------+-----------------+------------------+--------------------+\n",
            "only showing top 20 rows\n",
            "\n"
          ],
          "name": "stdout"
        }
      ]
    },
    {
      "cell_type": "markdown",
      "metadata": {
        "id": "ShU3R56qnGk5",
        "colab_type": "text"
      },
      "source": [
        "Transformations are the instructions for the computation. With the data loaded in, let's perform some transformations."
      ]
    },
    {
      "cell_type": "code",
      "metadata": {
        "id": "umdDHkJPnAwZ",
        "colab_type": "code",
        "colab": {
          "base_uri": "https://localhost:8080/",
          "height": 34
        },
        "outputId": "927d1f94-4185-40b8-b356-65d789eee939"
      },
      "source": [
        "# Order a DataFrame by ascending values\n",
        "df.orderBy(df[\"points\"].desc())"
      ],
      "execution_count": 4,
      "outputs": [
        {
          "output_type": "execute_result",
          "data": {
            "text/plain": [
              "DataFrame[country: string, description: string, designation: string, points: string, price: string, province: string, region_1: string, region_2: string, variety: string, winery: string]"
            ]
          },
          "metadata": {
            "tags": []
          },
          "execution_count": 4
        }
      ]
    },
    {
      "cell_type": "markdown",
      "metadata": {
        "id": "HGWbndQPnKOo",
        "colab_type": "text"
      },
      "source": [
        "Here we applied the transformation to order the DataFrame by points in descending order. All we’re doing is telling Spark that we want this DataFrame to be organized in this particular way, and Spark says, “Okay, got it—just let me know when you want me to do this.”"
      ]
    },
    {
      "cell_type": "markdown",
      "metadata": {
        "id": "KhBERpRanYnd",
        "colab_type": "text"
      },
      "source": [
        "Actions direct Spark to perform the computation instructions and return a result. The show(5) method is an action that tells Spark to show the first five results."
      ]
    },
    {
      "cell_type": "code",
      "metadata": {
        "id": "v5a3Tm8unN5q",
        "colab_type": "code",
        "colab": {
          "base_uri": "https://localhost:8080/",
          "height": 204
        },
        "outputId": "5ce13a07-8c15-41ed-e6cb-fcc133a38cb7"
      },
      "source": [
        "df.show(5)"
      ],
      "execution_count": 5,
      "outputs": [
        {
          "output_type": "stream",
          "text": [
            "+-------+--------------------+--------------------+------+-----+--------------+-----------------+-----------------+------------------+--------------------+\n",
            "|country|         description|         designation|points|price|      province|         region_1|         region_2|           variety|              winery|\n",
            "+-------+--------------------+--------------------+------+-----+--------------+-----------------+-----------------+------------------+--------------------+\n",
            "|     US|This tremendous 1...|   Martha's Vineyard|    96|  235|    California|      Napa Valley|             Napa|Cabernet Sauvignon|               Heitz|\n",
            "|  Spain|Ripe aromas of fi...|Carodorum Selecci...|    96|  110|Northern Spain|             Toro|             null|     Tinta de Toro|Bodega Carmen Rod...|\n",
            "|     US|Mac Watson honors...|Special Selected ...|    96|   90|    California|   Knights Valley|           Sonoma|   Sauvignon Blanc|            Macauley|\n",
            "|     US|This spent 20 mon...|             Reserve|    96|   65|        Oregon|Willamette Valley|Willamette Valley|        Pinot Noir|               Ponzi|\n",
            "| France|This is the top w...|         La Br��lade|    95|   66|      Provence|           Bandol|             null|Provence red blend|Domaine de la B̩gude|\n",
            "+-------+--------------------+--------------------+------+-----+--------------+-----------------+-----------------+------------------+--------------------+\n",
            "only showing top 5 rows\n",
            "\n"
          ],
          "name": "stdout"
        }
      ]
    },
    {
      "cell_type": "code",
      "metadata": {
        "id": "U0fbCGr-ntfF",
        "colab_type": "code",
        "colab": {
          "base_uri": "https://localhost:8080/",
          "height": 969
        },
        "outputId": "0b4adda3-d682-45ce-9824-ba8638166223"
      },
      "source": [
        "# Order a DataFrame by ascending values\n",
        "df.orderBy(df[\"points\"].desc())\n",
        "df.show(50)"
      ],
      "execution_count": 6,
      "outputs": [
        {
          "output_type": "stream",
          "text": [
            "+-----------+--------------------+--------------------+------+-----+------------------+--------------------+-----------------+--------------------+--------------------+\n",
            "|    country|         description|         designation|points|price|          province|            region_1|         region_2|             variety|              winery|\n",
            "+-----------+--------------------+--------------------+------+-----+------------------+--------------------+-----------------+--------------------+--------------------+\n",
            "|         US|This tremendous 1...|   Martha's Vineyard|    96|  235|        California|         Napa Valley|             Napa|  Cabernet Sauvignon|               Heitz|\n",
            "|      Spain|Ripe aromas of fi...|Carodorum Selecci...|    96|  110|    Northern Spain|                Toro|             null|       Tinta de Toro|Bodega Carmen Rod...|\n",
            "|         US|Mac Watson honors...|Special Selected ...|    96|   90|        California|      Knights Valley|           Sonoma|     Sauvignon Blanc|            Macauley|\n",
            "|         US|This spent 20 mon...|             Reserve|    96|   65|            Oregon|   Willamette Valley|Willamette Valley|          Pinot Noir|               Ponzi|\n",
            "|     France|This is the top w...|         La Br��lade|    95|   66|          Provence|              Bandol|             null|  Provence red blend|Domaine de la B̩gude|\n",
            "|      Spain|Deep, dense and p...|           Numanthia|    95|   73|    Northern Spain|                Toro|             null|       Tinta de Toro|           Numanthia|\n",
            "|      Spain|Slightly gritty b...|          San Rom��n|    95|   65|    Northern Spain|                Toro|             null|       Tinta de Toro|            Maurodos|\n",
            "|      Spain|Lush cedary black...|Carodorum �_nico ...|    95|  110|    Northern Spain|                Toro|             null|       Tinta de Toro|Bodega Carmen Rod...|\n",
            "|         US|This re-named vin...|              Silice|    95|   65|            Oregon|  Chehalem Mountains|Willamette Valley|          Pinot Noir|           Bergstr̦m|\n",
            "|         US|The producer sour...|Gap's Crown Vineyard|    95|   60|        California|        Sonoma Coast|           Sonoma|          Pinot Noir|           Blue Farm|\n",
            "|      Italy|Elegance, complex...|  Ronco della Chiesa|    95|   80|Northeastern Italy|              Collio|             null|            Friulano|    Borgo del Tiglio|\n",
            "|         US|From 18-year-old ...|Estate Vineyard W...|    95|   48|            Oregon|        Ribbon Ridge|Willamette Valley|          Pinot Noir|Patricia Green Ce...|\n",
            "|         US|A standout even i...|      Weber Vineyard|    95|   48|            Oregon|        Dundee Hills|Willamette Valley|          Pinot Noir|Patricia Green Ce...|\n",
            "|     France|This wine is in p...|Ch̢teau Montus Pr...|    95|   90|  Southwest France|             Madiran|             null|              Tannat|   Vignobles Brumont|\n",
            "|         US|With its sophisti...|      Grace Vineyard|    95|  185|            Oregon|        Dundee Hills|Willamette Valley|          Pinot Noir|      Domaine Serene|\n",
            "|         US|First made in 200...|              Sigrid|    95|   90|            Oregon|   Willamette Valley|Willamette Valley|          Chardonnay|           Bergstr̦m|\n",
            "|         US|This blockbuster,...|     Rainin Vineyard|    95|  325|        California|Diamond Mountain ...|             Napa|  Cabernet Sauvignon|                Hall|\n",
            "|      Spain|Nicely oaked blac...|6 A̱os Reserva Pr...|    95|   80|    Northern Spain|    Ribera del Duero|             null|         Tempranillo|            Valduero|\n",
            "|     France|Coming from a sev...|       Le Pigeonnier|    95|  290|  Southwest France|              Cahors|             null|              Malbec|  Ch̢teau Lagr̩zette|\n",
            "|         US|This fresh and li...|Gap's Crown Vineyard|    95|   75|        California|        Sonoma Coast|           Sonoma|          Pinot Noir|        Gary Farrell|\n",
            "|         US|Heitz has made th...|          Grignolino|    95|   24|        California|         Napa Valley|             Napa|                Ros̩|               Heitz|\n",
            "|      Spain|Alluring, complex...|Prado Enea Gran R...|    95|   79|    Northern Spain|               Rioja|             null|   Tempranillo Blend|                Muga|\n",
            "|      Spain|Tarry blackberry ...|          Termanthia|    95|  220|    Northern Spain|                Toro|             null|       Tinta de Toro|           Numanthia|\n",
            "|         US|The apogee of thi...|       Giallo Solare|    95|   60|        California|         Edna Valley|    Central Coast|          Chardonnay|    Center of Effort|\n",
            "|         US|San Jose-based pr...|       R-Bar-R Ranch|    95|   45|        California|Santa Cruz Mountains|    Central Coast|          Pinot Noir|            Comartin|\n",
            "|New Zealand|Yields were down ...|     Mat̩'s Vineyard|    94|   57|             Kumeu|                null|             null|          Chardonnay|         Kumeu River|\n",
            "|         US|Bergstr̦m has mad...|       Shea Vineyard|    94|   62|            Oregon|   Willamette Valley|             null|          Pinot Noir|           Bergstr̦m|\n",
            "|         US|Focused and dense...|             Abetina|    94|  105|            Oregon|   Willamette Valley|Willamette Valley|          Pinot Noir|               Ponzi|\n",
            "|         US|Cranberry, baked ...|     Garys' Vineyard|    94|   60|        California|Santa Lucia Highl...|    Central Coast|          Pinot Noir|                Roar|\n",
            "|         US|This standout Roc...|     The Funk Estate|    94|   60|        Washington|Walla Walla Valle...|  Columbia Valley|               Syrah|              Saviah|\n",
            "|   Bulgaria|This Bulgarian Ma...|             Bergul̩|    90|   15|          Bulgaria|                null|             null|              Mavrud|        Villa Melnik|\n",
            "|         US|Steely and perfum...|            Babushka|    90|   37|        California|Russian River Valley|           Sonoma|          Chardonnay|            Zepaltas|\n",
            "|      Italy|Underbrush, scorc...|       Vigna Piaggia|    90| null|           Tuscany|Brunello di Monta...|             null|          Sangiovese|     Abbadia Ardenga|\n",
            "|     France|Pale in color, th...|Nonpareil Tr̩sor ...|    90|   22|      France Other|        Vin Mousseux|             null|     Sparkling Blend|      Bouvet-Ladubay|\n",
            "|         US|The aromas entice...| Conner Lee Vineyard|    90|   42|        Washington|Columbia Valley (WA)|  Columbia Valley|          Chardonnay|                Buty|\n",
            "|      Italy|Forest floor, til...|             Riserva|    90|  135|           Tuscany|Brunello di Monta...|             null|          Sangiovese|            Carillon|\n",
            "|     France|Gingery spice not...|                null|    90|   60|      Rh̫ne Valley| Ch̢teauneuf-du-Pape|             null|Rh̫ne-style White...|Clos de L'Oratoir...|\n",
            "|      Italy|Aromas of forest ...|                null|    90|   29|           Tuscany|Vino Nobile di Mo...|             null|          Sangiovese|          Avignonesi|\n",
            "|      Italy|This has a charmi...|                null|    90|   23|           Tuscany|    Chianti Classico|             null|          Sangiovese|    Casina di Cornia|\n",
            "|      Italy|This bright, savo...|             Riserva|    90|   29|           Tuscany|    Chianti Classico|             null|           Red Blend|Castello di Monte...|\n",
            "|      Spain|Earthy plum and c...|              Amandi|    90|   17|           Galicia|       Ribeira Sacra|             null|             Menc�_a|      Don Bernardino|\n",
            "|      Spain|This comes across...|Alfonso Oloroso Seco|    90|   26|         Andalucia|               Jerez|             null|            Palomino|     Gonz��lez Byass|\n",
            "|         US|This is an aromat...|     Private Reserve|    90|   55|             Idaho|                null|             null|        Petite Sirah|              Huston|\n",
            "|      Italy|Aromas of dark-sk...|             Riserva|    90|   39|           Tuscany|    Chianti Classico|             null|           Red Blend|             Rignana|\n",
            "|     France|Dark in color and...|             Coteaux|    90|   69|      Rh̫ne Valley|              Cornas|             null|               Syrah|     Tardieu-Laurent|\n",
            "|      Italy|A blend of 90% Sa...|Vigneto Odoardo B...|    90|   30|           Tuscany|    Chianti Classico|             null|           Red Blend|        Vignavecchia|\n",
            "|      Italy|Sunbaked earth, r...|    Poggio alle Mura|    90|   90|           Tuscany|Brunello di Monta...|             null|          Sangiovese|               Banfi|\n",
            "|         US|Blended with 9% M...|        Estate Grown|    90|   60|        California|        Mount Veeder|             Napa|  Cabernet Sauvignon|            Brandlin|\n",
            "|      Italy|Ripe dark-skinned...|                null|    90|   50|           Tuscany|Brunello di Monta...|             null|          Sangiovese|  Brunelli Martoccia|\n",
            "|         US|The aromas of blu...|                null|    90|   40|        Washington|        Red Mountain|  Columbia Valley|  Cabernet Sauvignon|          Canvasback|\n",
            "+-----------+--------------------+--------------------+------+-----+------------------+--------------------+-----------------+--------------------+--------------------+\n",
            "only showing top 50 rows\n",
            "\n"
          ],
          "name": "stdout"
        }
      ]
    },
    {
      "cell_type": "markdown",
      "metadata": {
        "id": "gMGcRbOrrd3e",
        "colab_type": "text"
      },
      "source": [
        "Spark can import additional functions, such as averages."
      ]
    },
    {
      "cell_type": "code",
      "metadata": {
        "id": "nY4lSV69n3xb",
        "colab_type": "code",
        "colab": {
          "base_uri": "https://localhost:8080/",
          "height": 119
        },
        "outputId": "852010a7-cc62-4666-dd31-8bfc0db1cbc6"
      },
      "source": [
        "#Import functions\n",
        "from pyspark.sql.functions import avg\n",
        "df.select(avg(\"points\")).show()"
      ],
      "execution_count": 7,
      "outputs": [
        {
          "output_type": "stream",
          "text": [
            "+-----------------+\n",
            "|      avg(points)|\n",
            "+-----------------+\n",
            "|87.88834105383143|\n",
            "+-----------------+\n",
            "\n"
          ],
          "name": "stdout"
        }
      ]
    },
    {
      "cell_type": "markdown",
      "metadata": {
        "id": "4qUsjuHOrjFp",
        "colab_type": "text"
      },
      "source": [
        "The avg() function is the transformation, and show() is the action.\n"
      ]
    },
    {
      "cell_type": "markdown",
      "metadata": {
        "id": "UDJ9PjLtrsHn",
        "colab_type": "text"
      },
      "source": [
        "filter on columns by supplying the name of the column and operator and what to compare it against."
      ]
    },
    {
      "cell_type": "code",
      "metadata": {
        "id": "XYa6nFKmrmTO",
        "colab_type": "code",
        "colab": {
          "base_uri": "https://localhost:8080/",
          "height": 204
        },
        "outputId": "8013c46e-4017-48ee-973b-1644895e3f32"
      },
      "source": [
        "#filter\n",
        "df.filter(\"price<20\").show(5)"
      ],
      "execution_count": 8,
      "outputs": [
        {
          "output_type": "stream",
          "text": [
            "+--------+--------------------+-----------+------+-----+----------+--------------------+-----------------+--------------+--------------------+\n",
            "| country|         description|designation|points|price|  province|            region_1|         region_2|       variety|              winery|\n",
            "+--------+--------------------+-----------+------+-----+----------+--------------------+-----------------+--------------+--------------------+\n",
            "|Bulgaria|This Bulgarian Ma...|    Bergul̩|    90|   15|  Bulgaria|                null|             null|        Mavrud|        Villa Melnik|\n",
            "|   Spain|Earthy plum and c...|     Amandi|    90|   17|   Galicia|       Ribeira Sacra|             null|       Menc�_a|      Don Bernardino|\n",
            "|      US|There's a lot to ...|       null|    90|   18|California|Russian River Valley|           Sonoma|    Chardonnay|            De Loach|\n",
            "|      US|Massively fruity,...|       null|    91|   19|    Oregon|   Willamette Valley|Willamette Valley|    Pinot Gris|   Trinity Vineyards|\n",
            "|Portugal|It is the ripe da...|    Premium|    91|   15|  Alentejo|                null|             null|Portuguese Red|Adega Cooperativa...|\n",
            "+--------+--------------------+-----------+------+-----+----------+--------------------+-----------------+--------------+--------------------+\n",
            "only showing top 5 rows\n",
            "\n"
          ],
          "name": "stdout"
        }
      ]
    },
    {
      "cell_type": "markdown",
      "metadata": {
        "id": "UDFkRTLNr1fE",
        "colab_type": "text"
      },
      "source": [
        "***Filter*** is the transformation and ***show*** is the action."
      ]
    },
    {
      "cell_type": "code",
      "metadata": {
        "id": "glnLnPCzr5ip",
        "colab_type": "code",
        "colab": {
          "base_uri": "https://localhost:8080/",
          "height": 204
        },
        "outputId": "a9e0571e-61a1-49f8-affa-3e254c282482"
      },
      "source": [
        "#Filter by price on certain columns\n",
        "df.filter(\"price<20\").select(['points','country','winery','price']).show(5)"
      ],
      "execution_count": 9,
      "outputs": [
        {
          "output_type": "stream",
          "text": [
            "+------+--------+--------------------+-----+\n",
            "|points| country|              winery|price|\n",
            "+------+--------+--------------------+-----+\n",
            "|    90|Bulgaria|        Villa Melnik|   15|\n",
            "|    90|   Spain|      Don Bernardino|   17|\n",
            "|    90|      US|            De Loach|   18|\n",
            "|    91|      US|   Trinity Vineyards|   19|\n",
            "|    91|Portugal|Adega Cooperativa...|   15|\n",
            "+------+--------+--------------------+-----+\n",
            "only showing top 5 rows\n",
            "\n"
          ],
          "name": "stdout"
        }
      ]
    },
    {
      "cell_type": "markdown",
      "metadata": {
        "id": "R8lAfsCrsOWv",
        "colab_type": "text"
      },
      "source": [
        "Both ***filter*** and ***select*** are separate transformations, and show is again the action."
      ]
    },
    {
      "cell_type": "code",
      "metadata": {
        "id": "UQNHAZKIsSqn",
        "colab_type": "code",
        "colab": {
          "base_uri": "https://localhost:8080/",
          "height": 204
        },
        "outputId": "8cd993f0-b81f-46fb-ec0a-e8980aa80a07"
      },
      "source": [
        "# Filter\n",
        "df.filter(\"price<20\").show(5)"
      ],
      "execution_count": 10,
      "outputs": [
        {
          "output_type": "stream",
          "text": [
            "+--------+--------------------+-----------+------+-----+----------+--------------------+-----------------+--------------+--------------------+\n",
            "| country|         description|designation|points|price|  province|            region_1|         region_2|       variety|              winery|\n",
            "+--------+--------------------+-----------+------+-----+----------+--------------------+-----------------+--------------+--------------------+\n",
            "|Bulgaria|This Bulgarian Ma...|    Bergul̩|    90|   15|  Bulgaria|                null|             null|        Mavrud|        Villa Melnik|\n",
            "|   Spain|Earthy plum and c...|     Amandi|    90|   17|   Galicia|       Ribeira Sacra|             null|       Menc�_a|      Don Bernardino|\n",
            "|      US|There's a lot to ...|       null|    90|   18|California|Russian River Valley|           Sonoma|    Chardonnay|            De Loach|\n",
            "|      US|Massively fruity,...|       null|    91|   19|    Oregon|   Willamette Valley|Willamette Valley|    Pinot Gris|   Trinity Vineyards|\n",
            "|Portugal|It is the ripe da...|    Premium|    91|   15|  Alentejo|                null|             null|Portuguese Red|Adega Cooperativa...|\n",
            "+--------+--------------------+-----------+------+-----+----------+--------------------+-----------------+--------------+--------------------+\n",
            "only showing top 5 rows\n",
            "\n"
          ],
          "name": "stdout"
        }
      ]
    },
    {
      "cell_type": "code",
      "metadata": {
        "id": "QSD1ufHus0gd",
        "colab_type": "code",
        "colab": {
          "base_uri": "https://localhost:8080/",
          "height": 204
        },
        "outputId": "757f8c05-258a-42e5-dfd3-088091820ecb"
      },
      "source": [
        "# Filter by price on certain columns\n",
        "df.filter(\"price<20\").select(['points','country', 'winery','price']).show(5)"
      ],
      "execution_count": 11,
      "outputs": [
        {
          "output_type": "stream",
          "text": [
            "+------+--------+--------------------+-----+\n",
            "|points| country|              winery|price|\n",
            "+------+--------+--------------------+-----+\n",
            "|    90|Bulgaria|        Villa Melnik|   15|\n",
            "|    90|   Spain|      Don Bernardino|   17|\n",
            "|    90|      US|            De Loach|   18|\n",
            "|    91|      US|   Trinity Vineyards|   19|\n",
            "|    91|Portugal|Adega Cooperativa...|   15|\n",
            "+------+--------+--------------------+-----+\n",
            "only showing top 5 rows\n",
            "\n"
          ],
          "name": "stdout"
        }
      ]
    },
    {
      "cell_type": "code",
      "metadata": {
        "id": "unLkjR8ps3U-",
        "colab_type": "code",
        "colab": {
          "base_uri": "https://localhost:8080/",
          "height": 459
        },
        "outputId": "9094e03c-3295-4a25-c00d-7c443856753f"
      },
      "source": [
        "# Filter on exact state\n",
        "df.filter(df[\"country\"] == \"US\").show()"
      ],
      "execution_count": 12,
      "outputs": [
        {
          "output_type": "stream",
          "text": [
            "+-------+--------------------+--------------------+------+-----+----------+--------------------+-----------------+------------------+--------------------+\n",
            "|country|         description|         designation|points|price|  province|            region_1|         region_2|           variety|              winery|\n",
            "+-------+--------------------+--------------------+------+-----+----------+--------------------+-----------------+------------------+--------------------+\n",
            "|     US|This tremendous 1...|   Martha's Vineyard|    96|  235|California|         Napa Valley|             Napa|Cabernet Sauvignon|               Heitz|\n",
            "|     US|Mac Watson honors...|Special Selected ...|    96|   90|California|      Knights Valley|           Sonoma|   Sauvignon Blanc|            Macauley|\n",
            "|     US|This spent 20 mon...|             Reserve|    96|   65|    Oregon|   Willamette Valley|Willamette Valley|        Pinot Noir|               Ponzi|\n",
            "|     US|This re-named vin...|              Silice|    95|   65|    Oregon|  Chehalem Mountains|Willamette Valley|        Pinot Noir|           Bergstr̦m|\n",
            "|     US|The producer sour...|Gap's Crown Vineyard|    95|   60|California|        Sonoma Coast|           Sonoma|        Pinot Noir|           Blue Farm|\n",
            "|     US|From 18-year-old ...|Estate Vineyard W...|    95|   48|    Oregon|        Ribbon Ridge|Willamette Valley|        Pinot Noir|Patricia Green Ce...|\n",
            "|     US|A standout even i...|      Weber Vineyard|    95|   48|    Oregon|        Dundee Hills|Willamette Valley|        Pinot Noir|Patricia Green Ce...|\n",
            "|     US|With its sophisti...|      Grace Vineyard|    95|  185|    Oregon|        Dundee Hills|Willamette Valley|        Pinot Noir|      Domaine Serene|\n",
            "|     US|First made in 200...|              Sigrid|    95|   90|    Oregon|   Willamette Valley|Willamette Valley|        Chardonnay|           Bergstr̦m|\n",
            "|     US|This blockbuster,...|     Rainin Vineyard|    95|  325|California|Diamond Mountain ...|             Napa|Cabernet Sauvignon|                Hall|\n",
            "|     US|This fresh and li...|Gap's Crown Vineyard|    95|   75|California|        Sonoma Coast|           Sonoma|        Pinot Noir|        Gary Farrell|\n",
            "|     US|Heitz has made th...|          Grignolino|    95|   24|California|         Napa Valley|             Napa|              Ros̩|               Heitz|\n",
            "|     US|The apogee of thi...|       Giallo Solare|    95|   60|California|         Edna Valley|    Central Coast|        Chardonnay|    Center of Effort|\n",
            "|     US|San Jose-based pr...|       R-Bar-R Ranch|    95|   45|California|Santa Cruz Mountains|    Central Coast|        Pinot Noir|            Comartin|\n",
            "|     US|Bergstr̦m has mad...|       Shea Vineyard|    94|   62|    Oregon|   Willamette Valley|             null|        Pinot Noir|           Bergstr̦m|\n",
            "|     US|Focused and dense...|             Abetina|    94|  105|    Oregon|   Willamette Valley|Willamette Valley|        Pinot Noir|               Ponzi|\n",
            "|     US|Cranberry, baked ...|     Garys' Vineyard|    94|   60|California|Santa Lucia Highl...|    Central Coast|        Pinot Noir|                Roar|\n",
            "|     US|This standout Roc...|     The Funk Estate|    94|   60|Washington|Walla Walla Valle...|  Columbia Valley|             Syrah|              Saviah|\n",
            "|     US|Steely and perfum...|            Babushka|    90|   37|California|Russian River Valley|           Sonoma|        Chardonnay|            Zepaltas|\n",
            "|     US|The aromas entice...| Conner Lee Vineyard|    90|   42|Washington|Columbia Valley (WA)|  Columbia Valley|        Chardonnay|                Buty|\n",
            "+-------+--------------------+--------------------+------+-----+----------+--------------------+-----------------+------------------+--------------------+\n",
            "only showing top 20 rows\n",
            "\n"
          ],
          "name": "stdout"
        }
      ]
    }
  ]
}